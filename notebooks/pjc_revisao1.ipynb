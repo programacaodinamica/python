{
  "nbformat": 4,
  "nbformat_minor": 0,
  "metadata": {
    "colab": {
      "provenance": [],
      "include_colab_link": true
    },
    "kernelspec": {
      "name": "python3",
      "display_name": "Python 3"
    }
  },
  "cells": [
    {
      "cell_type": "markdown",
      "metadata": {
        "id": "view-in-github",
        "colab_type": "text"
      },
      "source": [
        "<a href=\"https://colab.research.google.com/github/programacaodinamica/python/blob/main/notebooks/pjc_revisao1.ipynb\" target=\"_parent\"><img src=\"https://colab.research.google.com/assets/colab-badge.svg\" alt=\"Open In Colab\"/></a>"
      ]
    },
    {
      "cell_type": "markdown",
      "metadata": {
        "id": "PzgNUuSniR-4"
      },
      "source": [
        "# 1. Variáveis"
      ]
    },
    {
      "cell_type": "code",
      "metadata": {
        "id": "N2xAgDAWiL5n"
      },
      "source": [
        "# int:  inteiro/integer\n",
        "idade = 29\n",
        "\n",
        "# Ponto flutuante - floating point (float)\n",
        "preco = 33.50\n",
        "\n",
        "# str: - texto/string - vem de cadeia de caracteres (string [of characters])\n",
        "mensagem = \"o voto é obrigatório\"\n",
        "\n",
        "# bool: booleano/boolean - verdadeiro ou falso\n",
        "situacao_regular = True"
      ],
      "execution_count": null,
      "outputs": []
    },
    {
      "cell_type": "markdown",
      "metadata": {
        "id": "GBZl8EiijmKV"
      },
      "source": [
        "# 2. Função print (imprimir) - Saída de Dados"
      ]
    },
    {
      "cell_type": "code",
      "metadata": {
        "id": "GmHJybNUjk8H"
      },
      "source": [
        "# Use print para exibir na tela\n",
        "print(idade)\n",
        "print(preco)\n",
        "print(mensagem)\n",
        "print(situacao_regular)\n",
        "print(\"Em noite de lua cheia, enquanto o canguçu esturra, o guatipuru sobe na carapanaúba?\")"
      ],
      "execution_count": null,
      "outputs": []
    },
    {
      "cell_type": "markdown",
      "metadata": {
        "id": "LV0AwS-fj-tu"
      },
      "source": [
        "## Experimente\n",
        "i. Tente mudar o valor das variáveis. É preciso executar novamente a célula alterada para que a mudança tenha efeito.\n",
        "\n",
        "ii. Tente exibir outros valores com a função print"
      ]
    },
    {
      "cell_type": "markdown",
      "metadata": {
        "id": "UvBVECOdkgWP"
      },
      "source": [
        "# 3 Operações com dados"
      ]
    },
    {
      "cell_type": "code",
      "metadata": {
        "id": "Sh3FzEZMkfxA"
      },
      "source": [
        "resposta = 42\n",
        "k = 5\n",
        "\n",
        "print(resposta + k)\n",
        "print(resposta * k)\n",
        "# repare a mudança de tipo\n",
        "print(resposta / k)\n",
        "# divisão inteira\n",
        "print(resposta // k)\n",
        "# resto da divisão inteira\n",
        "print(resposta % k)\n",
        "# potenciação\n",
        "print(resposta ** k)"
      ],
      "execution_count": null,
      "outputs": []
    },
    {
      "cell_type": "code",
      "metadata": {
        "id": "J80wu2YXltGH"
      },
      "source": [
        "texto1 = 'bicho'\n",
        "texto4 = 'cabeças'\n",
        "\n",
        "#concatenação\n",
        "print(texto1 + texto4)"
      ],
      "execution_count": null,
      "outputs": []
    },
    {
      "cell_type": "code",
      "metadata": {
        "id": "dpBZAs_FmnBX"
      },
      "source": [
        "# erro, tipos incompatíveis com a operação\n",
        "print(texto1 + k)"
      ],
      "execution_count": null,
      "outputs": []
    },
    {
      "cell_type": "markdown",
      "metadata": {
        "id": "fIQbflNdnBwh"
      },
      "source": [
        "## Experimente\n",
        "iii. Tente realizar várias operações ao mesmo tempo, por exemplo multiplicar 3 números de uma vez ou concatenar 4 strings\n",
        "\n",
        "iv. Tente realizar outras operações entre dados de tipos diferentes e ver o que acontece"
      ]
    },
    {
      "cell_type": "markdown",
      "metadata": {
        "id": "kBmqB4zqmmRZ"
      },
      "source": [
        "# 4. Conversão de Tipos"
      ]
    },
    {
      "cell_type": "code",
      "metadata": {
        "id": "s-OHbiqzndZA"
      },
      "source": [
        "# Você pode descobrir o tipo de uma variável usando a função type()\n",
        "print(type(idade))\n",
        "print(type(preco))\n",
        "print((type(mensagem)))\n",
        "print(type(situacao_regular))"
      ],
      "execution_count": null,
      "outputs": []
    },
    {
      "cell_type": "code",
      "metadata": {
        "id": "dqowJ0yqnu6B"
      },
      "source": [
        "# Use o nome do tipo para o qual deseja converter desta maneira\n",
        "# converter número em texto\n",
        "k_em_texto = str(k)\n",
        "print(texto1 + k_em_texto)"
      ],
      "execution_count": null,
      "outputs": []
    },
    {
      "cell_type": "code",
      "metadata": {
        "id": "ZlLrg-S9oXUO"
      },
      "source": [
        "# concatenando textos - sim, os números estão na forma de texto, strings\n",
        "resultado = k_em_texto + '.28'\n",
        "print(resultado)\n",
        "\n",
        "# erro de operação\n",
        "print(resultado + 2)"
      ],
      "execution_count": null,
      "outputs": []
    },
    {
      "cell_type": "code",
      "metadata": {
        "id": "w8t7jmlEpElD"
      },
      "source": [
        "# convertendo texto para número fracionário (ponto flutuante)\n",
        "fracionario = float(resultado) + 2\n",
        "print(fracionario)\n",
        "# convertendo ponto flutuante para inteiro\n",
        "print(int(fracionario))\n",
        "\n",
        "#\n",
        "print('não é ' + texto1 + ' de ' + str(int(fracionario)) + ' ' + texto4)"
      ],
      "execution_count": null,
      "outputs": []
    },
    {
      "cell_type": "markdown",
      "metadata": {
        "id": "J9luc0q0mLoT"
      },
      "source": [
        "## Experimente\n",
        "v. Tente realizar outras conversões entre tipos. O que acontece se você tentar converter \"biscoito\" em um número inteiro? E se converter True em ponto flutuante?"
      ]
    },
    {
      "cell_type": "markdown",
      "metadata": {
        "id": "JFxIUVqqqMnh"
      },
      "source": [
        "# 5. Controle de Fluxo (if, else, elif)"
      ]
    },
    {
      "cell_type": "code",
      "metadata": {
        "id": "nnoMzdQhrkQ_"
      },
      "source": [
        "situacao_regular = True\n",
        "if situacao_regular:\n",
        "  print(\"Quite com as obrigações eleitorais\")"
      ],
      "execution_count": null,
      "outputs": []
    },
    {
      "cell_type": "code",
      "metadata": {
        "id": "vUq8d9hcr3Hp"
      },
      "source": [
        "situacao_regular = False\n",
        "if situacao_regular:\n",
        "  print(\"Quite com as obrigações eleitorais\")\n",
        "else:\n",
        "  print(\"Precisa regularizar sua situação!\")"
      ],
      "execution_count": null,
      "outputs": []
    },
    {
      "cell_type": "markdown",
      "metadata": {
        "id": "eYl3dqxOsFBr"
      },
      "source": [
        "## Experimente\n",
        "vi. Tente trocar o valor da variável situacao_regular nas duas situações e observe o que acontece"
      ]
    },
    {
      "cell_type": "code",
      "metadata": {
        "id": "gb1iyvvZsVEd"
      },
      "source": [
        "# precisamos passar uma condição que possa ser avaliada\n",
        "# como verdadeira ou falsa, um valor booleano\n",
        "idade = 18\n",
        "if idade >= 18:\n",
        "  print(\"é obrigado a votar\")"
      ],
      "execution_count": null,
      "outputs": []
    },
    {
      "cell_type": "code",
      "metadata": {
        "id": "n6OVLmwGso8y"
      },
      "source": [
        "# essa condição pode ser mais complexa,\n",
        "# envolvendo a análise de várias proposições conectadas\n",
        "if idade >= 18 and idade <= 70:\n",
        "  print(\"é obrigado a votar\")"
      ],
      "execution_count": null,
      "outputs": []
    },
    {
      "cell_type": "code",
      "metadata": {
        "id": "D8rU131as5Gj"
      },
      "source": [
        "# resultado das operações lógicas de E (and) e OU (or)\n",
        "print(\"Verdade E Verdade:\", True and True)\n",
        "print(\"Verdade E Falso:\", True and False) # a ordem não importa\n",
        "print(\"False E False:\", False and False)\n",
        "print(\"Verdade OU Verdade:\", True or True)\n",
        "print(\"Verdade OU False:\", True or False)\n",
        "print(\"False OU False:\", False or False)"
      ],
      "execution_count": null,
      "outputs": []
    },
    {
      "cell_type": "code",
      "metadata": {
        "id": "ihyTIUkZtvbH"
      },
      "source": [
        "# É possível especificar o que acontece caso a condição não seja satisfeita\n",
        "idade = 17\n",
        "if idade >= 18 and idade <= 70:\n",
        "  print(\"é obrigado a votar\")\n",
        "else:\n",
        "  print(\"não é orbigado a votar\")"
      ],
      "execution_count": null,
      "outputs": []
    },
    {
      "cell_type": "code",
      "metadata": {
        "id": "lpSZE8KpuGHN"
      },
      "source": [
        "# Se precisar analisar mais condições, use elif (contração de else + if)\n",
        "idade = 15\n",
        "if idade >= 18 and idade <= 70:\n",
        "  print(\"É obrigado a votar\")\n",
        "elif idade >= 16:\n",
        "  pribt(\"Voto é facultativo\")\n",
        "else:\n",
        "  print(\"NÃO pode votar!\")"
      ],
      "execution_count": null,
      "outputs": []
    },
    {
      "cell_type": "markdown",
      "metadata": {
        "id": "4LBoQf6OukUZ"
      },
      "source": [
        "## Experimente\n",
        "vii. Tente mudar os valores de idade e verificar se a resposta está condizente com o que você espera"
      ]
    },
    {
      "cell_type": "markdown",
      "metadata": {
        "id": "RjJ-LqlRu44q"
      },
      "source": [
        "# 6. Função input - Entrada de Dados"
      ]
    },
    {
      "cell_type": "code",
      "metadata": {
        "id": "DHKPEvVFu-4Q"
      },
      "source": [
        "# Receba dados do usuário - deve digitar e pressionar ENTER\n",
        "dado_do_usuario = input()\n",
        "print(dado_do_usuario)"
      ],
      "execution_count": null,
      "outputs": []
    },
    {
      "cell_type": "code",
      "metadata": {
        "id": "qQdkQanMvWqz"
      },
      "source": [
        "# especifique o que deve ser digitado\n",
        "numero = input(\"Digite um número: \")\n",
        "print(\"Número digitado foi\", numero)"
      ],
      "execution_count": null,
      "outputs": []
    },
    {
      "cell_type": "code",
      "metadata": {
        "id": "6IdC_xcKvm2h"
      },
      "source": [
        "# todo input entra no programa como string!\n",
        "print(numero + 4)"
      ],
      "execution_count": null,
      "outputs": []
    },
    {
      "cell_type": "code",
      "metadata": {
        "id": "KeHFsPwkvynE"
      },
      "source": [
        "# você pode converter pro tipo desejado\n",
        "numero = int(numero)\n",
        "print(numero + 4)"
      ],
      "execution_count": null,
      "outputs": []
    },
    {
      "cell_type": "markdown",
      "metadata": {
        "id": "DeJpjWa9xGGU"
      },
      "source": [
        "## Experimente\n",
        "viii. Tente rodar o programa que avalia a obrigatoriedade do voto perguntando a idade do usuário."
      ]
    },
    {
      "cell_type": "markdown",
      "metadata": {
        "id": "7TJrL2b0wBrO"
      },
      "source": [
        "# 7 Formatação de Strings"
      ]
    },
    {
      "cell_type": "code",
      "metadata": {
        "id": "_oL0DtXVwI5f"
      },
      "source": [
        "# repare na conversão\n",
        "num_cabecas = float(input('Quantas cabeças tem o bicho? '))\n",
        "# cabeças se multiplicaram :O\n",
        "num_cabecas = int(2 * num_cabecas)\n",
        "\n",
        "# inserindo uma variável no meio do texto\n",
        "print(f'Bicho de {num_cabecas} cabeças!')"
      ],
      "execution_count": null,
      "outputs": []
    },
    {
      "cell_type": "markdown",
      "metadata": {
        "id": "Ofh9IqyyxVb0"
      },
      "source": [
        "## Experimente\n",
        "ix. Tente escrever frases com muitas variáveis no meio do texto"
      ]
    }
  ]
}